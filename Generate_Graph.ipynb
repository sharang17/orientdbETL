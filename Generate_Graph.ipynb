{
 "cells": [
  {
   "cell_type": "code",
   "execution_count": 1,
   "metadata": {},
   "outputs": [],
   "source": [
    "import pandas as pd\n",
    "import pickle \n",
    "import json "
   ]
  },
  {
   "cell_type": "code",
   "execution_count": 2,
   "metadata": {},
   "outputs": [
    {
     "name": "stderr",
     "output_type": "stream",
     "text": [
      "/home/shbhat/anaconda2/lib/python2.7/site-packages/IPython/core/interactiveshell.py:2718: DtypeWarning: Columns (0,1,3,4,5,6,7,8,9,17,18,19,20,21,22,23,24,25,26,27,28,29,30,31,32,33,34,35,36,37,38,39,41,46,48,49,50,51,52,54,58,60,61,62,63,64,66,70,71,72,73,74,75,76,78,82,84,85,86,87,88,90,94,96,97,98,99,100,102,108,109,110,111,112,114,118,119,121,122,123,124,126,131,133,134,135,136,138,143,145,146,147,148,150,155,157,158,159,160,162,167,169,170,171,172,174,179,181,182,183,184,186,191,193,194,195,196,198,203,205,206,207,215,217,219,227,229,231,239,240,241,242,243,245,247,251,253,255,257,263,264,266,268,276,278,280,288,290,292,300,302,304,312,314,316,324,326,328,336,338,340,348,349,350,351,353,355,363,364,366,368,376,378,380,388,390,392,400,402,404,412,414,416,424,426,428,436,438,440,448,450,452,460,462,464,474,476,484,486,488,496,498,500,508,510,512,520,522,524,532,534,536,544) have mixed types. Specify dtype option on import or set low_memory=False.\n",
      "  interactivity=interactivity, compiler=compiler, result=result)\n"
     ]
    }
   ],
   "source": [
    "categories=pd.read_csv(\"./openbeerdb_csv/categories.csv\")\n",
    "styles=pd.read_csv(\"./openbeerdb_csv/styles.csv\")\n",
    "breweries=pd.read_csv(\"./openbeerdb_csv/breweries.csv\")\n",
    "beers=pd.read_csv(\"./openbeerdb_csv/beers.csv\")\n",
    "with open('json_structure.pickle','rb') as handle:\n",
    "    struct=pickle.load(handle)"
   ]
  },
  {
   "cell_type": "code",
   "execution_count": 3,
   "metadata": {},
   "outputs": [],
   "source": [
    "\"\"\"\n",
    "{\n",
    "  \"source\": { \"file\": { \"path\": \"/temp/openbeer/openbeerdb_csv/categories.csv\" } },\n",
    "  \"extractor\": { \"csv\": {} },\n",
    "  \"transformers\": [\n",
    "    { \"vertex\": { \"class\": \"Category\" } }\n",
    "  ],\n",
    "  \"loader\": {\n",
    "    \"orientdb\": {\n",
    "       \"dbURL\": \"plocal:../databases/openbeerdb\",\n",
    "       \"dbType\": \"graph\",\n",
    "       \"classes\": [\n",
    "         {\"name\": \"Category\", \"extends\": \"V\"}\n",
    "       ], \"indexes\": [\n",
    "         {\"class\":\"Category\", \"fields\":[\"id:integer\"], \"type\":\"UNIQUE\" }\n",
    "       ]\n",
    "    }\n",
    "  }\n",
    "}\n",
    "\"\"\"\n",
    "\n",
    "def etl_json(struct,df,csv_source,db_url,class_name,fields,type_field):\n",
    "    struct['source']['file']['path']=csv_source\n",
    "    struct['transformers'][0]['vertex']['class']=class_name\n",
    "    struct['loader']['orientdb']['dbURL']=db_url\n",
    "    struct['loader']['orientdb']['classes'][0]['name']=class_name\n",
    "    struct['loader']['orientdb']['indexes'][0]['class']=class_name\n",
    "    struct['loader']['orientdb']['indexes'][0]['fields']=fields\n",
    "    struct['loader']['orientdb']['indexes'][0]['type']=type_field\n",
    "    return struct\n",
    "\n",
    "def generate"
   ]
  },
  {
   "cell_type": "code",
   "execution_count": 4,
   "metadata": {},
   "outputs": [],
   "source": [
    "test_struct=etl_json(struct,categories,\"./openbeerdb_csv/categories.csv\",\"plocal:../databases/openbeerdb\",\"Category\",[\"id:integer\"],\"UNIQUE\")"
   ]
  },
  {
   "cell_type": "code",
   "execution_count": 28,
   "metadata": {},
   "outputs": [],
   "source": [
    "test_dict=dict()\n",
    "path=\"./openbeerdb_csv/categories.csv\"\n",
    "db_url=\"plocal:../databases/openbeerdb\"\n",
    "class_name=\"Category\"\n",
    "index_field=[\"id:integer\"]\n",
    "type_field=\"UNIQUE\""
   ]
  },
  {
   "cell_type": "code",
   "execution_count": null,
   "metadata": {},
   "outputs": [],
   "source": []
  }
 ],
 "metadata": {
  "kernelspec": {
   "display_name": "Python 2",
   "language": "python",
   "name": "python2"
  },
  "language_info": {
   "codemirror_mode": {
    "name": "ipython",
    "version": 2
   },
   "file_extension": ".py",
   "mimetype": "text/x-python",
   "name": "python",
   "nbconvert_exporter": "python",
   "pygments_lexer": "ipython2",
   "version": "2.7.14"
  }
 },
 "nbformat": 4,
 "nbformat_minor": 2
}
